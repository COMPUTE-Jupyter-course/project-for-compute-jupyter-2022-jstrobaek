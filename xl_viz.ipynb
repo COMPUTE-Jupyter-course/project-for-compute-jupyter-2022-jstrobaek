{
 "cells": [
  {
   "attachments": {},
   "cell_type": "markdown",
   "metadata": {},
   "source": [
    "### Project checklist\n",
    "\n",
    "- [ ] Title\n",
    "- [ ] Abstract (max 300 words)\n",
    "- [ ] env.yml (include both full and cross-platform)\n",
    "  - _If time..._\n",
    "    - [ ] Set up container environment to run Notebook (Binder?)\n",
    "- [ ] Package motivations\n",
    "- [ ] Include rich text (equations/tables/links/images/vids)\n",
    "- **I/O**\n",
    "  - [ ] Use `pandas` to read large data _or_ `numpy` to load from files\n",
    "  - [ ] Save processed/generated data to disk with `pandas`\n",
    "- **DATA MANIPULATION**\n",
    "  - [ ] Needs to include numerical operations (`numpy`, `scipy`, `pandas`) or data transformation (`pandas`)\n",
    "- **VISUALIZATION**\n",
    "  - [ ] Min. one composite plot (multi-panel or inset)\n",
    "  - \"[Publication ready figures](https://pubs.acs.org/doi/10.1021/jz500997e)\"\n",
    "    - [ ] The figs are 89 mm wide (single column) or 183 mm wide (double column)\n",
    "    - [ ] The axes are labeled\n",
    "    - [ ] The font sizes are sufficiently large\n",
    "    - [ ] The figures are saved as ~~rasterized images (300 dpi) or~~ **vector art**\n",
    "- [ ] [Repo Zenodo DOI](https://docs.github.com/en/repositories/archiving-a-github-repository/referencing-and-citing-content)"
   ]
  },
  {
   "attachments": {},
   "cell_type": "markdown",
   "metadata": {},
   "source": [
    "# Project title\n",
    "\n",
    "## Abstract\n",
    "\n",
    "Abstract text...\n",
    "\n",
    "## Index\n",
    "\n",
    "- [Notebook instructions](#notebook-instructions)\n",
    "- [Packages](#packages)\n",
    "  - [Package](#package-name)"
   ]
  },
  {
   "attachments": {},
   "cell_type": "markdown",
   "metadata": {},
   "source": [
    "## Notebook instructions\n",
    "\n",
    "_Information on how to use/run the notebook_."
   ]
  },
  {
   "attachments": {},
   "cell_type": "markdown",
   "metadata": {},
   "source": [
    "## Packages\n",
    "\n",
    "### Package name\n",
    "\n",
    "_Reason for inclusion_."
   ]
  }
 ],
 "metadata": {
  "kernelspec": {
   "display_name": "compute",
   "language": "python",
   "name": "python3"
  },
  "language_info": {
   "codemirror_mode": {
    "name": "ipython",
    "version": 3
   },
   "file_extension": ".py",
   "mimetype": "text/x-python",
   "name": "python",
   "nbconvert_exporter": "python",
   "pygments_lexer": "ipython3",
   "version": "3.10.8 | packaged by conda-forge | (main, Nov 22 2022, 08:26:04) [GCC 10.4.0]"
  },
  "orig_nbformat": 4,
  "vscode": {
   "interpreter": {
    "hash": "5993540fc8d804ed0d1ead72efb27ab0eb9c1f5a77b707589d6728220cf7c24c"
   }
  }
 },
 "nbformat": 4,
 "nbformat_minor": 2
}
