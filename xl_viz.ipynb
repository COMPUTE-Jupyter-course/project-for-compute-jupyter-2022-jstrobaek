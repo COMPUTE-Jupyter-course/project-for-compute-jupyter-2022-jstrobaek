{
 "cells": [
  {
   "attachments": {},
   "cell_type": "markdown",
   "metadata": {},
   "source": [
    "### Project checklist\n",
    "\n",
    "- [ ] Title\n",
    "- [ ] Abstract (max 300 words)\n",
    "- [ ] env.yml (include both full and cross-platform)\n",
    "  - _If time..._\n",
    "    - [ ] Set up container environment to run Notebook (Binder?)\n",
    "- [ ] Package motivations\n",
    "- [ ] Include rich text (equations/tables/links/images/vids)\n",
    "- **I/O**\n",
    "  - [ ] Use `pandas` to read large data _or_ `numpy` to load from files\n",
    "  - [ ] Save processed/generated data to disk with `pandas`\n",
    "- **DATA MANIPULATION**\n",
    "  - [ ] Needs to include numerical operations (`numpy`, `scipy`, `pandas`) or data transformation (`pandas`)\n",
    "- **VISUALIZATION**\n",
    "  - [ ] Min. one composite plot (multi-panel or inset)\n",
    "  - \"[Publication ready figures](https://pubs.acs.org/doi/10.1021/jz500997e)\"\n",
    "    - [ ] The figs are 89 mm wide (single column) or 183 mm wide (double column)\n",
    "    - [ ] The axes are labeled\n",
    "    - [ ] The font sizes are sufficiently large\n",
    "    - [ ] The figures are saved as ~~rasterized images (300 dpi) or~~ **vector art**\n",
    "- [ ] [Repo Zenodo DOI](https://docs.github.com/en/repositories/archiving-a-github-repository/referencing-and-citing-content)"
   ]
  },
  {
   "attachments": {},
   "cell_type": "markdown",
   "metadata": {},
   "source": [
    "# Project title\n",
    "\n",
    "## Abstract\n",
    "\n",
    "Abstract text...\n",
    "\n",
    "## Index\n",
    "\n",
    "- [Notebook instructions](#notebook-instructions)\n",
    "- [Packages](#packages)\n",
    "  - [Package](#package)"
   ]
  },
  {
   "attachments": {},
   "cell_type": "markdown",
   "metadata": {},
   "source": [
    "## Notebook instructions\n",
    "\n",
    "_Information on how to use/run the notebook_."
   ]
  },
  {
   "attachments": {},
   "cell_type": "markdown",
   "metadata": {},
   "source": [
    "## Packages\n",
    "\n",
    "### Package\n",
    "\n",
    "_Reason for inclusion_."
   ]
  },
  {
   "cell_type": "code",
   "execution_count": 74,
   "metadata": {},
   "outputs": [],
   "source": [
    "import sqlite3 as sql\n",
    "from pathlib import Path\n",
    "\n",
    "import pandas as pd"
   ]
  },
  {
   "cell_type": "code",
   "execution_count": 66,
   "metadata": {},
   "outputs": [],
   "source": [
    "base_dir = Path('data').resolve()\n",
    "\n",
    "sample_dirs = {v.name: [*v.resolve().iterdir()] for v in base_dir.iterdir()}"
   ]
  },
  {
   "cell_type": "code",
   "execution_count": 90,
   "metadata": {},
   "outputs": [
    {
     "data": {
      "text/html": [
       "<div>\n",
       "<style scoped>\n",
       "    .dataframe tbody tr th:only-of-type {\n",
       "        vertical-align: middle;\n",
       "    }\n",
       "\n",
       "    .dataframe tbody tr th {\n",
       "        vertical-align: top;\n",
       "    }\n",
       "\n",
       "    .dataframe thead th {\n",
       "        text-align: right;\n",
       "    }\n",
       "</style>\n",
       "<table border=\"1\" class=\"dataframe\">\n",
       "  <thead>\n",
       "    <tr style=\"text-align: right;\">\n",
       "      <th></th>\n",
       "      <th>XL</th>\n",
       "      <th>mgf_file</th>\n",
       "      <th>spectrum_id</th>\n",
       "      <th>spectrum_num</th>\n",
       "      <th>delta</th>\n",
       "      <th>pre_charge</th>\n",
       "      <th>H_L</th>\n",
       "      <th>fragSc</th>\n",
       "      <th>coverage</th>\n",
       "      <th>covered_Frags</th>\n",
       "      <th>covered_Mz</th>\n",
       "      <th>covered_int</th>\n",
       "      <th>main_Mz</th>\n",
       "      <th>main_int</th>\n",
       "      <th>count</th>\n",
       "    </tr>\n",
       "  </thead>\n",
       "  <tbody>\n",
       "    <tr>\n",
       "      <th>0</th>\n",
       "      <td>-.ATALEKELEEK(6)--QSNNKYMASSYLTLTAR(5).-</td>\n",
       "      <td>/srv/data1/home/jo0348st/projects/2023-heusel_...</td>\n",
       "      <td>controllerType=0 controllerNumber=1 scan=44913</td>\n",
       "      <td>242</td>\n",
       "      <td>0.01</td>\n",
       "      <td>4</td>\n",
       "      <td>Heavy</td>\n",
       "      <td>30</td>\n",
       "      <td>3.529412</td>\n",
       "      <td>AT+,ATA+,ATAL+,ATALE+,ELEEK+,LEEK+,EEK+,Q+,QS+...</td>\n",
       "      <td>173.09206871989,244.1291825046,357.21324648173...</td>\n",
       "      <td>267146.25,171657.25,78572.367,55976.23,287251....</td>\n",
       "      <td>100.07611,101.07134,101.10809,102.05514,105.06...</td>\n",
       "      <td>128613.781,242081.547,26213.936,38480.988,3794...</td>\n",
       "      <td>15</td>\n",
       "    </tr>\n",
       "  </tbody>\n",
       "</table>\n",
       "</div>"
      ],
      "text/plain": [
       "                                         XL  \\\n",
       "0  -.ATALEKELEEK(6)--QSNNKYMASSYLTLTAR(5).-   \n",
       "\n",
       "                                            mgf_file  \\\n",
       "0  /srv/data1/home/jo0348st/projects/2023-heusel_...   \n",
       "\n",
       "                                      spectrum_id  spectrum_num  delta  \\\n",
       "0  controllerType=0 controllerNumber=1 scan=44913           242   0.01   \n",
       "\n",
       "   pre_charge    H_L  fragSc  coverage  \\\n",
       "0           4  Heavy      30  3.529412   \n",
       "\n",
       "                                       covered_Frags  \\\n",
       "0  AT+,ATA+,ATAL+,ATALE+,ELEEK+,LEEK+,EEK+,Q+,QS+...   \n",
       "\n",
       "                                          covered_Mz  \\\n",
       "0  173.09206871989,244.1291825046,357.21324648173...   \n",
       "\n",
       "                                         covered_int  \\\n",
       "0  267146.25,171657.25,78572.367,55976.23,287251....   \n",
       "\n",
       "                                             main_Mz  \\\n",
       "0  100.07611,101.07134,101.10809,102.05514,105.06...   \n",
       "\n",
       "                                            main_int  count  \n",
       "0  128613.781,242081.547,26213.936,38480.988,3794...     15  "
      ]
     },
     "execution_count": 90,
     "metadata": {},
     "output_type": "execute_result"
    }
   ],
   "source": [
    "con = sql.connect(sample_dirs['m1-b_rep'][0] / 'ms2_results.sql')\n",
    "\n",
    "df = pd.read_sql('SELECT * FROM MS2data', con)\n",
    "\n",
    "d = sample_dirs['m1-b_rep'][0] / 'top_xls.txt'\n",
    "\n",
    "top_xls = !cat {d}\n",
    "\n",
    "df.query(f'XL in {top_xls}')"
   ]
  },
  {
   "cell_type": "code",
   "execution_count": 93,
   "metadata": {},
   "outputs": [
    {
     "name": "stdout",
     "output_type": "stream",
     "text": [
      "m1-c_rep /home/jstrobaek/Projects/2023-compute_jupyter_course/data/m1-c_rep/LUIGSeq_m11_ctrl-tail03_r0\n",
      "m1-c_rep /home/jstrobaek/Projects/2023-compute_jupyter_course/data/m1-c_rep/LUIGSeq_m11_top04_r0\n",
      "m1-c_rep /home/jstrobaek/Projects/2023-compute_jupyter_course/data/m1-c_rep/LUIGSeq_m11_ctrl-tail02_r0\n",
      "m1-c_rep /home/jstrobaek/Projects/2023-compute_jupyter_course/data/m1-c_rep/LUIGSeq_m11_ctrl-tail01_r0\n",
      "m1-c_rep /home/jstrobaek/Projects/2023-compute_jupyter_course/data/m1-c_rep/LUIGSeq_m11_top05_r0\n",
      "m1-c_rep /home/jstrobaek/Projects/2023-compute_jupyter_course/data/m1-c_rep/LUIGSeq_m11_ctrl-igs01_r0\n",
      "m1-c_rep /home/jstrobaek/Projects/2023-compute_jupyter_course/data/m1-c_rep/LUIGSeq_m11_top01_r0\n",
      "m1-c_rep /home/jstrobaek/Projects/2023-compute_jupyter_course/data/m1-c_rep/LUIGSeq_m11_ctrl-pls01_r0\n",
      "m1-c_rep /home/jstrobaek/Projects/2023-compute_jupyter_course/data/m1-c_rep/LUIGSeq_m11_top02_r0\n",
      "m1-c_rep /home/jstrobaek/Projects/2023-compute_jupyter_course/data/m1-c_rep/LUIGSeq_m11_top03_r0\n",
      "m1-b_rep /home/jstrobaek/Projects/2023-compute_jupyter_course/data/m1-b_rep/LUIGSeq_m11_ctrl-tail03_r0\n",
      "m1-b_rep /home/jstrobaek/Projects/2023-compute_jupyter_course/data/m1-b_rep/LUIGSeq_m11_top04_r0\n",
      "m1-b_rep /home/jstrobaek/Projects/2023-compute_jupyter_course/data/m1-b_rep/LUIGSeq_m11_ctrl-tail02_r0\n",
      "m1-b_rep /home/jstrobaek/Projects/2023-compute_jupyter_course/data/m1-b_rep/LUIGSeq_m11_ctrl-tail01_r0\n",
      "m1-b_rep /home/jstrobaek/Projects/2023-compute_jupyter_course/data/m1-b_rep/LUIGSeq_m11_top05_r0\n",
      "m1-b_rep /home/jstrobaek/Projects/2023-compute_jupyter_course/data/m1-b_rep/LUIGSeq_m11_ctrl-igs01_r0\n",
      "m1-b_rep /home/jstrobaek/Projects/2023-compute_jupyter_course/data/m1-b_rep/LUIGSeq_m11_top01_r0\n",
      "m1-b_rep /home/jstrobaek/Projects/2023-compute_jupyter_course/data/m1-b_rep/LUIGSeq_m11_ctrl-pls01_r0\n",
      "m1-b_rep /home/jstrobaek/Projects/2023-compute_jupyter_course/data/m1-b_rep/LUIGSeq_m11_top02_r0\n",
      "m1-b_rep /home/jstrobaek/Projects/2023-compute_jupyter_course/data/m1-b_rep/LUIGSeq_m11_top03_r0\n"
     ]
    }
   ],
   "source": [
    "xl_dict = {}\n",
    "\n",
    "for k, v in sample_dirs.items():\n",
    "\n",
    "    for path in v:\n",
    "\n",
    "        print(k, path)"
   ]
  }
 ],
 "metadata": {
  "kernelspec": {
   "display_name": "compute",
   "language": "python",
   "name": "python3"
  },
  "language_info": {
   "codemirror_mode": {
    "name": "ipython",
    "version": 3
   },
   "file_extension": ".py",
   "mimetype": "text/x-python",
   "name": "python",
   "nbconvert_exporter": "python",
   "pygments_lexer": "ipython3",
   "version": "3.10.8"
  },
  "orig_nbformat": 4,
  "vscode": {
   "interpreter": {
    "hash": "5993540fc8d804ed0d1ead72efb27ab0eb9c1f5a77b707589d6728220cf7c24c"
   }
  }
 },
 "nbformat": 4,
 "nbformat_minor": 2
}
