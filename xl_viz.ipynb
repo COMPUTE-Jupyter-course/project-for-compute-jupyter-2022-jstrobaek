{
 "cells": [
  {
   "attachments": {},
   "cell_type": "markdown",
   "metadata": {},
   "source": [
    "### Project checklist\n",
    "\n",
    "- [ ] Title\n",
    "- [ ] Abstract (max 300 words)\n",
    "- [ ] env.yml (include both full and cross-platform)\n",
    "  - _If time..._\n",
    "    - [ ] Set up container environment to run Notebook (Binder?)\n",
    "- [ ] Package motivations\n",
    "- [ ] Include rich text (equations/tables/links/images/vids)\n",
    "- **I/O**\n",
    "  - [ ] Use `pandas` to read large data _or_ `numpy` to load from files\n",
    "  - [ ] Save processed/generated data to disk with `pandas`\n",
    "- **DATA MANIPULATION**\n",
    "  - [ ] Needs to include numerical operations (`numpy`, `scipy`, `pandas`) or data transformation (`pandas`)\n",
    "- **VISUALIZATION**\n",
    "  - [ ] Min. one composite plot (multi-panel or inset)\n",
    "  - \"[Publication ready figures](https://pubs.acs.org/doi/10.1021/jz500997e)\"\n",
    "    - [ ] The figs are 89 mm wide (single column) or 183 mm wide (double column)\n",
    "    - [ ] The axes are labeled\n",
    "    - [ ] The font sizes are sufficiently large\n",
    "    - [ ] The figures are saved as ~~rasterized images (300 dpi) or~~ **vector art**\n",
    "- [ ] [Repo Zenodo DOI](https://docs.github.com/en/repositories/archiving-a-github-repository/referencing-and-citing-content)"
   ]
  },
  {
   "attachments": {},
   "cell_type": "markdown",
   "metadata": {},
   "source": [
    "# Project title\n",
    "\n",
    "## Abstract\n",
    "\n",
    "Abstract text...\n",
    "\n",
    "## Index\n",
    "\n",
    "- [Notebook instructions](#notebook-instructions)\n",
    "- [Packages](#packages)\n",
    "  - [Package](#package)\n",
    "  - [Imports](#imports)\n",
    "- [Functions](#functions)\n",
    "- [Analysis](#analysis)"
   ]
  },
  {
   "attachments": {},
   "cell_type": "markdown",
   "metadata": {},
   "source": [
    "## Notebook instructions\n",
    "\n",
    "_Information on how to use/run the notebook_."
   ]
  },
  {
   "attachments": {},
   "cell_type": "markdown",
   "metadata": {},
   "source": [
    "## Packages\n",
    "\n",
    "### Package\n",
    "\n",
    "_Reason for inclusion_."
   ]
  },
  {
   "attachments": {},
   "cell_type": "markdown",
   "metadata": {},
   "source": [
    "### Imports"
   ]
  },
  {
   "cell_type": "code",
   "execution_count": 199,
   "metadata": {},
   "outputs": [],
   "source": [
    "import sqlite3 as sql\n",
    "from pathlib import Path\n",
    "\n",
    "import ipywidgets as widgets\n",
    "import pandas as pd\n",
    "from pandas import DataFrame"
   ]
  },
  {
   "attachments": {},
   "cell_type": "markdown",
   "metadata": {},
   "source": [
    "## Functions"
   ]
  },
  {
   "cell_type": "code",
   "execution_count": 200,
   "metadata": {},
   "outputs": [],
   "source": [
    "def sql_to_df(db_file: Path, query: str = 'SELECT * FROM MS2data') -> DataFrame:\n",
    "\n",
    "    con = sql.connect(db_file)\n",
    "\n",
    "    return pd.read_sql(query, con)"
   ]
  },
  {
   "attachments": {},
   "cell_type": "markdown",
   "metadata": {},
   "source": [
    "## Analysis\n",
    "\n",
    "Bla bla bla, antigen of interest, epitope, reciever, etc. **Select the desired antigen domain to analyze in the below dropdown menu**."
   ]
  },
  {
   "cell_type": "code",
   "execution_count": 209,
   "metadata": {},
   "outputs": [
    {
     "data": {
      "application/vnd.jupyter.widget-view+json": {
       "model_id": "b7cb788f033843c3b6699cefcb78d76e",
       "version_major": 2,
       "version_minor": 0
      },
      "text/plain": [
       "Dropdown(description='Reciever:', options=('m1-b_rep', 'm1-c_rep'), value='m1-b_rep')"
      ]
     },
     "metadata": {},
     "output_type": "display_data"
    }
   ],
   "source": [
    "# Display dropdown to enable data subset selection.\n",
    "data_subset = widgets.Dropdown(options=['m1-b_rep', 'm1-c_rep'],\n",
    "                               value='m1-b_rep',\n",
    "                               description='Reciever:',\n",
    "                               disabled=False)\n",
    "display(data_subset)"
   ]
  },
  {
   "cell_type": "code",
   "execution_count": 206,
   "metadata": {},
   "outputs": [
    {
     "data": {
      "text/plain": [
       "'m1-b_rep'"
      ]
     },
     "execution_count": 206,
     "metadata": {},
     "output_type": "execute_result"
    }
   ],
   "source": [
    "data_subset.value"
   ]
  },
  {
   "cell_type": "code",
   "execution_count": 64,
   "metadata": {},
   "outputs": [],
   "source": [
    "base_dir = Path('data').resolve()\n",
    "\n",
    "sample_dicts = {k.name: {p.name: {'dir': p}\n",
    "                         for p in [*k.resolve().iterdir()]}\n",
    "                for k in base_dir.iterdir()}"
   ]
  },
  {
   "cell_type": "code",
   "execution_count": 117,
   "metadata": {},
   "outputs": [],
   "source": [
    "df = pd.concat({k: pd.concat({a: sql_to_df(db_file=b['dir'] / 'ms2_results.sql')\n",
    "                              for a, b in v.items()},\n",
    "                             axis=0)\n",
    "                for k, v in sample_dicts.items()}, axis=0)"
   ]
  },
  {
   "cell_type": "code",
   "execution_count": 155,
   "metadata": {},
   "outputs": [
    {
     "name": "stdout",
     "output_type": "stream",
     "text": [
      "LUIGSeq_m11_ctrl-igs01_r0\n",
      "31\n",
      "LUIGSeq_m11_ctrl-pls01_r0\n",
      "25\n",
      "LUIGSeq_m11_ctrl-tail01_r0\n",
      "39\n",
      "LUIGSeq_m11_ctrl-tail02_r0\n",
      "32\n",
      "LUIGSeq_m11_ctrl-tail03_r0\n",
      "31\n",
      "LUIGSeq_m11_top01_r0\n",
      "20\n",
      "LUIGSeq_m11_top02_r0\n",
      "20\n",
      "LUIGSeq_m11_top03_r0\n",
      "12\n",
      "LUIGSeq_m11_top04_r0\n",
      "14\n",
      "LUIGSeq_m11_top05_r0\n",
      "26\n"
     ]
    }
   ],
   "source": [
    "for ligand in df.index.levels[1]:\n",
    "\n",
    "    print(ligand)\n",
    "\n",
    "    print(df.loc[('m1-c_rep',), 'XL'][ligand].size)"
   ]
  },
  {
   "cell_type": "code",
   "execution_count": 58,
   "metadata": {},
   "outputs": [
    {
     "ename": "KeyError",
     "evalue": "3",
     "output_type": "error",
     "traceback": [
      "\u001b[0;31m---------------------------------------------------------------------------\u001b[0m",
      "\u001b[0;31mKeyError\u001b[0m                                  Traceback (most recent call last)",
      "Cell \u001b[0;32mIn[58], line 1\u001b[0m\n\u001b[0;32m----> 1\u001b[0m d \u001b[39m=\u001b[39m sample_dirs[\u001b[39m'\u001b[39;49m\u001b[39mm1-c_rep\u001b[39;49m\u001b[39m'\u001b[39;49m][\u001b[39m3\u001b[39;49m] \u001b[39m/\u001b[39m \u001b[39m'\u001b[39m\u001b[39mtop_xls.txt\u001b[39m\u001b[39m'\u001b[39m\n\u001b[1;32m      3\u001b[0m top_xls \u001b[39m=\u001b[39m get_ipython()\u001b[39m.\u001b[39mgetoutput(\u001b[39m'\u001b[39m\u001b[39mcat \u001b[39m\u001b[39m{d}\u001b[39;00m\u001b[39m'\u001b[39m)\n\u001b[1;32m      5\u001b[0m df\u001b[39m.\u001b[39mquery(\u001b[39mf\u001b[39m\u001b[39m'\u001b[39m\u001b[39mXL in \u001b[39m\u001b[39m{\u001b[39;00mtop_xls\u001b[39m}\u001b[39;00m\u001b[39m'\u001b[39m)\n",
      "\u001b[0;31mKeyError\u001b[0m: 3"
     ]
    }
   ],
   "source": [
    "d = sample_dirs['m1-c_rep'][3] / 'top_xls.txt'\n",
    "\n",
    "top_xls = !cat {d}\n",
    "\n",
    "df.query(f'XL in {top_xls}')"
   ]
  },
  {
   "cell_type": "code",
   "execution_count": 93,
   "metadata": {},
   "outputs": [
    {
     "name": "stdout",
     "output_type": "stream",
     "text": [
      "m1-c_rep /home/jstrobaek/Projects/2023-compute_jupyter_course/data/m1-c_rep/LUIGSeq_m11_ctrl-tail03_r0\n",
      "m1-c_rep /home/jstrobaek/Projects/2023-compute_jupyter_course/data/m1-c_rep/LUIGSeq_m11_top04_r0\n",
      "m1-c_rep /home/jstrobaek/Projects/2023-compute_jupyter_course/data/m1-c_rep/LUIGSeq_m11_ctrl-tail02_r0\n",
      "m1-c_rep /home/jstrobaek/Projects/2023-compute_jupyter_course/data/m1-c_rep/LUIGSeq_m11_ctrl-tail01_r0\n",
      "m1-c_rep /home/jstrobaek/Projects/2023-compute_jupyter_course/data/m1-c_rep/LUIGSeq_m11_top05_r0\n",
      "m1-c_rep /home/jstrobaek/Projects/2023-compute_jupyter_course/data/m1-c_rep/LUIGSeq_m11_ctrl-igs01_r0\n",
      "m1-c_rep /home/jstrobaek/Projects/2023-compute_jupyter_course/data/m1-c_rep/LUIGSeq_m11_top01_r0\n",
      "m1-c_rep /home/jstrobaek/Projects/2023-compute_jupyter_course/data/m1-c_rep/LUIGSeq_m11_ctrl-pls01_r0\n",
      "m1-c_rep /home/jstrobaek/Projects/2023-compute_jupyter_course/data/m1-c_rep/LUIGSeq_m11_top02_r0\n",
      "m1-c_rep /home/jstrobaek/Projects/2023-compute_jupyter_course/data/m1-c_rep/LUIGSeq_m11_top03_r0\n",
      "m1-b_rep /home/jstrobaek/Projects/2023-compute_jupyter_course/data/m1-b_rep/LUIGSeq_m11_ctrl-tail03_r0\n",
      "m1-b_rep /home/jstrobaek/Projects/2023-compute_jupyter_course/data/m1-b_rep/LUIGSeq_m11_top04_r0\n",
      "m1-b_rep /home/jstrobaek/Projects/2023-compute_jupyter_course/data/m1-b_rep/LUIGSeq_m11_ctrl-tail02_r0\n",
      "m1-b_rep /home/jstrobaek/Projects/2023-compute_jupyter_course/data/m1-b_rep/LUIGSeq_m11_ctrl-tail01_r0\n",
      "m1-b_rep /home/jstrobaek/Projects/2023-compute_jupyter_course/data/m1-b_rep/LUIGSeq_m11_top05_r0\n",
      "m1-b_rep /home/jstrobaek/Projects/2023-compute_jupyter_course/data/m1-b_rep/LUIGSeq_m11_ctrl-igs01_r0\n",
      "m1-b_rep /home/jstrobaek/Projects/2023-compute_jupyter_course/data/m1-b_rep/LUIGSeq_m11_top01_r0\n",
      "m1-b_rep /home/jstrobaek/Projects/2023-compute_jupyter_course/data/m1-b_rep/LUIGSeq_m11_ctrl-pls01_r0\n",
      "m1-b_rep /home/jstrobaek/Projects/2023-compute_jupyter_course/data/m1-b_rep/LUIGSeq_m11_top02_r0\n",
      "m1-b_rep /home/jstrobaek/Projects/2023-compute_jupyter_course/data/m1-b_rep/LUIGSeq_m11_top03_r0\n"
     ]
    }
   ],
   "source": [
    "xl_dict = {}\n",
    "\n",
    "for k, v in sample_dirs.items():\n",
    "\n",
    "    for path in v:\n",
    "\n",
    "        print(k, path)"
   ]
  }
 ],
 "metadata": {
  "kernelspec": {
   "display_name": "compute",
   "language": "python",
   "name": "python3"
  },
  "language_info": {
   "codemirror_mode": {
    "name": "ipython",
    "version": 3
   },
   "file_extension": ".py",
   "mimetype": "text/x-python",
   "name": "python",
   "nbconvert_exporter": "python",
   "pygments_lexer": "ipython3",
   "version": "3.10.8"
  },
  "orig_nbformat": 4,
  "vscode": {
   "interpreter": {
    "hash": "5993540fc8d804ed0d1ead72efb27ab0eb9c1f5a77b707589d6728220cf7c24c"
   }
  }
 },
 "nbformat": 4,
 "nbformat_minor": 2
}
