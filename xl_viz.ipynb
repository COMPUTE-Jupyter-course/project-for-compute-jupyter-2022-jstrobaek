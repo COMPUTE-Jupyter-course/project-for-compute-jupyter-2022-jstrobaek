{
 "cells": [
  {
   "attachments": {},
   "cell_type": "markdown",
   "metadata": {},
   "source": [
    "### Project checklist\n",
    "\n",
    "- [ ] Title\n",
    "- [ ] Abstract (max 300 words)\n",
    "- [ ] env.yml (include both full and cross-platform)\n",
    "  - _If time..._\n",
    "    - [ ] Set up container environment to run Notebook (Binder?)\n",
    "- [ ] Package motivations\n",
    "- [ ] Include rich text (equations/tables/links/images/vids)\n",
    "- **I/O**\n",
    "  - [ ] Use `pandas` to read large data _or_ `numpy` to load from files\n",
    "  - [ ] Save processed/generated data to disk with `pandas`\n",
    "- **DATA MANIPULATION**\n",
    "  - [ ] Needs to include numerical operations (`numpy`, `scipy`, `pandas`) or data transformation (`pandas`)\n",
    "- **VISUALIZATION**\n",
    "  - [ ] Min. one composite plot (multi-panel or inset)\n",
    "  - \"[Publication ready figures](https://pubs.acs.org/doi/10.1021/jz500997e)\"\n",
    "    - [ ] The figs are 89 mm wide (single column) or 183 mm wide (double column)\n",
    "    - [ ] The axes are labeled\n",
    "    - [ ] The font sizes are sufficiently large\n",
    "    - [ ] The figures are saved as ~~rasterized images (300 dpi) or~~ **vector art**\n",
    "- [ ] [Repo Zenodo DOI](https://docs.github.com/en/repositories/archiving-a-github-repository/referencing-and-citing-content)"
   ]
  },
  {
   "attachments": {},
   "cell_type": "markdown",
   "metadata": {},
   "source": [
    "# Project title\n",
    "\n",
    "## Abstract\n",
    "\n",
    "Abstract text...\n",
    "\n",
    "## Index\n",
    "\n",
    "- [Notebook instructions](#notebook-instructions)\n",
    "- [Packages](#packages)\n",
    "  - [Package](#package)\n",
    "  - [Imports](#imports)\n",
    "- [Functions](#functions)\n",
    "- [Analysis](#analysis)"
   ]
  },
  {
   "attachments": {},
   "cell_type": "markdown",
   "metadata": {},
   "source": [
    "## Notebook instructions\n",
    "\n",
    "_Information on how to use/run the notebook_."
   ]
  },
  {
   "attachments": {},
   "cell_type": "markdown",
   "metadata": {},
   "source": [
    "## Packages\n",
    "\n",
    "### Package\n",
    "\n",
    "_Reason for inclusion_."
   ]
  },
  {
   "attachments": {},
   "cell_type": "markdown",
   "metadata": {},
   "source": [
    "### Imports"
   ]
  },
  {
   "cell_type": "code",
   "execution_count": null,
   "metadata": {},
   "outputs": [],
   "source": [
    "import sqlite3 as sql\n",
    "from pathlib import Path\n",
    "\n",
    "import ipywidgets as widgets\n",
    "import pandas as pd\n",
    "from pandas import DataFrame"
   ]
  },
  {
   "attachments": {},
   "cell_type": "markdown",
   "metadata": {},
   "source": [
    "## Functions"
   ]
  },
  {
   "cell_type": "code",
   "execution_count": null,
   "metadata": {},
   "outputs": [],
   "source": [
    "def sql_to_df(db_file: Path, query: str = 'SELECT * FROM MS2data') -> DataFrame:\n",
    "\n",
    "    con = sql.connect(db_file)\n",
    "\n",
    "    return pd.read_sql(query, con)"
   ]
  },
  {
   "attachments": {},
   "cell_type": "markdown",
   "metadata": {},
   "source": [
    "## Analysis\n",
    "\n",
    "Bla bla bla, antigen of interest, epitope, reciever, etc. **Select the desired antigen domain to analyze in the below dropdown menu**."
   ]
  },
  {
   "cell_type": "code",
   "execution_count": null,
   "metadata": {},
   "outputs": [],
   "source": [
    "# Display dropdown to enable data subset selection.\n",
    "data_subset = widgets.Dropdown(options=['m1-b_rep', 'm1-c_rep'],\n",
    "                               value='m1-b_rep',\n",
    "                               description='Reciever:',\n",
    "                               disabled=False)\n",
    "display(data_subset)"
   ]
  },
  {
   "cell_type": "code",
   "execution_count": null,
   "metadata": {},
   "outputs": [],
   "source": [
    "data_subset.value"
   ]
  },
  {
   "cell_type": "code",
   "execution_count": null,
   "metadata": {},
   "outputs": [],
   "source": [
    "base_dir = Path('data').resolve()\n",
    "\n",
    "sample_dicts = {k.name: {p.name: {'dir': p}\n",
    "                         for p in [*k.resolve().iterdir()]}\n",
    "                for k in base_dir.iterdir()}"
   ]
  },
  {
   "cell_type": "code",
   "execution_count": null,
   "metadata": {},
   "outputs": [],
   "source": [
    "df = pd.concat({k: pd.concat({a: sql_to_df(db_file=b['dir'] / 'ms2_results.sql')\n",
    "                              for a, b in v.items()},\n",
    "                             axis=0)\n",
    "                for k, v in sample_dicts.items()}, axis=0)"
   ]
  },
  {
   "cell_type": "code",
   "execution_count": null,
   "metadata": {},
   "outputs": [],
   "source": [
    "for ligand in df.index.levels[1]:\n",
    "\n",
    "    print(ligand)\n",
    "\n",
    "    print(df.loc[('m1-c_rep',), 'XL'][ligand].size)"
   ]
  },
  {
   "cell_type": "code",
   "execution_count": null,
   "metadata": {},
   "outputs": [],
   "source": [
    "d = sample_dirs['m1-c_rep'][3] / 'top_xls.txt'\n",
    "\n",
    "top_xls = !cat {d}\n",
    "\n",
    "df.query(f'XL in {top_xls}')"
   ]
  },
  {
   "cell_type": "code",
   "execution_count": null,
   "metadata": {},
   "outputs": [],
   "source": [
    "xl_dict = {}\n",
    "\n",
    "for k, v in sample_dirs.items():\n",
    "\n",
    "    for path in v:\n",
    "\n",
    "        print(k, path)"
   ]
  }
 ],
 "metadata": {
  "kernelspec": {
   "display_name": "compute",
   "language": "python",
   "name": "python3"
  },
  "language_info": {
   "codemirror_mode": {
    "name": "ipython",
    "version": 3
   },
   "file_extension": ".py",
   "mimetype": "text/x-python",
   "name": "python",
   "nbconvert_exporter": "python",
   "pygments_lexer": "ipython3",
   "version": "3.10.8 | packaged by conda-forge | (main, Nov 22 2022, 08:26:04) [GCC 10.4.0]"
  },
  "orig_nbformat": 4,
  "vscode": {
   "interpreter": {
    "hash": "5993540fc8d804ed0d1ead72efb27ab0eb9c1f5a77b707589d6728220cf7c24c"
   }
  }
 },
 "nbformat": 4,
 "nbformat_minor": 2
}
